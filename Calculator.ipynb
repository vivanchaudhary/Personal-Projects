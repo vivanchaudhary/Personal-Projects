{
 "cells": [
  {
   "cell_type": "code",
   "execution_count": 9,
   "metadata": {},
   "outputs": [
    {
     "name": "stdout",
     "output_type": "stream",
     "text": [
      "Select operation type:\n",
      "Addition (+)\n",
      "Subtraction (-)\n",
      "Multiplication (*)\n",
      "Division (/)\n",
      "1.0\n"
     ]
    }
   ],
   "source": [
    "def Calculator():\n",
    "    print(\"Select operation type:\")\n",
    "    print(\"Addition (+)\")\n",
    "    print(\"Subtraction (-)\")\n",
    "    print(\"Multiplication (*)\")\n",
    "    print(\"Division (/)\")\n",
    "\n",
    "    user_choice = input(\"Enter choice (+/-/*//): \")\n",
    "\n",
    "    if user_choice in ['+', '-', '*', '/']:\n",
    "        num1 = float(input(\"Enter first number: \"))\n",
    "        num2 = float(input(\"Enter second number: \"))\n",
    "\n",
    "        if user_choice == '+':\n",
    "            print(add(num1, num2))\n",
    "\n",
    "        elif user_choice == '-':\n",
    "            print(subtract(num1, num2))\n",
    "\n",
    "        elif user_choice == '*':\n",
    "            print(multiply(num1, num2))\n",
    "\n",
    "        elif user_choice == '/':\n",
    "            result = divide(num1, num2)\n",
    "            if num2 == 0:\n",
    "                print(\"Error! Cannot divide by zero\")\n",
    "            else:\n",
    "                print(result)\n",
    "    else:\n",
    "        print(\"Invalid input\")\n",
    "\n",
    "def add(x, y):\n",
    "    return x + y\n",
    "\n",
    "def subtract(x, y):\n",
    "    return x - y\n",
    "\n",
    "def multiply(x, y):\n",
    "    return x * y\n",
    "\n",
    "def divide(x, y):\n",
    "    return x / y\n",
    "if __name__ == \"__main__\":\n",
    "    Calculator()\n",
    "\n"
   ]
  },
  {
   "cell_type": "code",
   "execution_count": null,
   "metadata": {},
   "outputs": [],
   "source": []
  },
  {
   "cell_type": "code",
   "execution_count": null,
   "metadata": {},
   "outputs": [],
   "source": []
  }
 ],
 "metadata": {
  "kernelspec": {
   "display_name": "base",
   "language": "python",
   "name": "python3"
  },
  "language_info": {
   "codemirror_mode": {
    "name": "ipython",
    "version": 3
   },
   "file_extension": ".py",
   "mimetype": "text/x-python",
   "name": "python",
   "nbconvert_exporter": "python",
   "pygments_lexer": "ipython3",
   "version": "3.12.2"
  }
 },
 "nbformat": 4,
 "nbformat_minor": 2
}
