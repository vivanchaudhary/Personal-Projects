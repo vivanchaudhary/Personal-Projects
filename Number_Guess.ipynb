{
 "cells": [
  {
   "cell_type": "code",
   "execution_count": null,
   "metadata": {},
   "outputs": [],
   "source": [
    "import random\n",
    "\n",
    "def guess_number():\n",
    "    best_score = None\n",
    "    number = random.randint(1, 100)\n",
    "    print(\"I'm thinking of a number between 1 and 100. Can you guess it?\")\n",
    "    \n",
    "    attempts = 0\n",
    "\n",
    "    while True:\n",
    "        try:\n",
    "            guess = int(input(\"Enter your guess: \"))\n",
    "\n",
    "            if guess < 1 or guess > 100:\n",
    "                print(\"Out of bounds! Please enter a number between 1 and 100.\")\n",
    "                continue\n",
    "\n",
    "            attempts += 1\n",
    "\n",
    "            if guess < number:\n",
    "                print(\"Too low! Try again.\")\n",
    "            elif guess > number:\n",
    "                print(\"Too high! Try again.\")\n",
    "            else:\n",
    "                print(f\"Congratulations! You guessed the number {number} correctly in {attempts} attempts.\")\n",
    "                score = max(100 - attempts, 0)\n",
    "                print(f\"Your score: {score}\")\n",
    "\n",
    "                if best_score is None or score > best_score:\n",
    "                    best_score = score\n",
    "                    print(f\"New best score: {best_score}!\")\n",
    "                else:\n",
    "                    print(f\"Your best score remains: {best_score}\")\n",
    "\n",
    "                break\n",
    "\n",
    "        except ValueError:\n",
    "            print(\"Invalid input! Please enter a valid integer.\")\n",
    "\n",
    "    print(\"Game over!\")\n",
    "\n",
    "guess_number()\n"
   ]
  },
  {
   "cell_type": "code",
   "execution_count": null,
   "metadata": {},
   "outputs": [],
   "source": []
  }
 ],
 "metadata": {
  "kernelspec": {
   "display_name": "base",
   "language": "python",
   "name": "python3"
  },
  "language_info": {
   "codemirror_mode": {
    "name": "ipython",
    "version": 3
   },
   "file_extension": ".py",
   "mimetype": "text/x-python",
   "name": "python",
   "nbconvert_exporter": "python",
   "pygments_lexer": "ipython3",
   "version": "3.12.2"
  }
 },
 "nbformat": 4,
 "nbformat_minor": 2
}
